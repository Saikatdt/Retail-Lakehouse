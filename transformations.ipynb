{
  "nbformat": 4,
  "nbformat_minor": 0,
  "metadata": {
    "colab": {
      "provenance": []
    },
    "kernelspec": {
      "name": "python3",
      "display_name": "Python 3"
    },
    "language_info": {
      "name": "python"
    }
  },
  "cells": [
    {
      "cell_type": "code",
      "execution_count": 28,
      "metadata": {
        "id": "BkDMITTP59oc"
      },
      "outputs": [],
      "source": [
        "import pandas as pd\n",
        "import os\n",
        "import pyarrow as pa\n",
        "import pyarrow.parquet as pq\n"
      ]
    },
    {
      "cell_type": "code",
      "source": [
        "!pip install boto3"
      ],
      "metadata": {
        "colab": {
          "base_uri": "https://localhost:8080/"
        },
        "id": "y6gVy_sNJCtr",
        "outputId": "1d093383-c55e-433a-e7e9-64ab2ae47964"
      },
      "execution_count": 29,
      "outputs": [
        {
          "output_type": "stream",
          "name": "stdout",
          "text": [
            "Requirement already satisfied: boto3 in /usr/local/lib/python3.10/dist-packages (1.28.34)\n",
            "Requirement already satisfied: botocore<1.32.0,>=1.31.34 in /usr/local/lib/python3.10/dist-packages (from boto3) (1.31.34)\n",
            "Requirement already satisfied: jmespath<2.0.0,>=0.7.1 in /usr/local/lib/python3.10/dist-packages (from boto3) (1.0.1)\n",
            "Requirement already satisfied: s3transfer<0.7.0,>=0.6.0 in /usr/local/lib/python3.10/dist-packages (from boto3) (0.6.2)\n",
            "Requirement already satisfied: python-dateutil<3.0.0,>=2.1 in /usr/local/lib/python3.10/dist-packages (from botocore<1.32.0,>=1.31.34->boto3) (2.8.2)\n",
            "Requirement already satisfied: urllib3<1.27,>=1.25.4 in /usr/local/lib/python3.10/dist-packages (from botocore<1.32.0,>=1.31.34->boto3) (1.26.16)\n",
            "Requirement already satisfied: six>=1.5 in /usr/local/lib/python3.10/dist-packages (from python-dateutil<3.0.0,>=2.1->botocore<1.32.0,>=1.31.34->boto3) (1.16.0)\n"
          ]
        }
      ]
    },
    {
      "cell_type": "code",
      "source": [
        "import boto3\n",
        "\n",
        "aws_access_key_id = ''\n",
        "aws_secret_access_key = ''\n",
        "\n",
        "# Configure AWS credentials\n",
        "boto3.setup_default_session(\n",
        "    aws_access_key_id=aws_access_key_id,\n",
        "    aws_secret_access_key=aws_secret_access_key\n",
        ")\n"
      ],
      "metadata": {
        "id": "YOJl5tQ0JIDf"
      },
      "execution_count": 30,
      "outputs": []
    },
    {
      "cell_type": "code",
      "source": [
        "import pandas as pd\n",
        "import pyarrow as pa\n",
        "import pyarrow.parquet as pq\n",
        "from io import BytesIO\n",
        "import boto3\n"
      ],
      "metadata": {
        "id": "3sO9IQKoKNlI"
      },
      "execution_count": 31,
      "outputs": []
    },
    {
      "cell_type": "code",
      "source": [
        "import pandas as pd\n",
        "import pyarrow as pa\n",
        "import pyarrow.parquet as pq\n",
        "from io import BytesIO\n",
        "import boto3\n",
        "\n",
        "csv_files = [\n",
        "    'olist_customers_dataset.csv',\n",
        "    'olist_geolocation_dataset.csv',\n",
        "    'olist_order_items_dataset.csv',\n",
        "    'olist_order_payments_dataset.csv',\n",
        "    'olist_order_reviews_dataset.csv',\n",
        "    'olist_products_dataset.csv',\n",
        "    'olist_orders_dataset.csv',\n",
        "    'olist_sellers_dataset.csv',\n",
        "    'product_category_name_translation.csv'\n",
        "]\n",
        "\n",
        "parquet_path = '/content/sample_data'\n",
        "\n",
        "for csv_file in csv_files:\n",
        "    df = pd.read_csv(csv_file)\n",
        "    table = pa.Table.from_pandas(df)\n",
        "    parquet_file = parquet_path + csv_file.replace('.csv', '.parquet')\n",
        "    pq.write_table(table, parquet_file)\n",
        "\n",
        "s3_bucket_name = 'de-study-group'\n",
        "s3_path = 'parquet/'\n",
        "\n",
        "session = boto3.Session(\n",
        "    aws_access_key_id='',\n",
        "    aws_secret_access_key='',\n",
        "    region_name='us-east-1'\n",
        ")\n",
        "s3 = session.resource('s3')\n",
        "bucket = s3.Bucket(s3_bucket_name)\n",
        "\n",
        "for csv_file in csv_files:\n",
        "    parquet_file = csv_file.replace('.csv', '.parquet')\n",
        "    local_path = parquet_path + parquet_file\n",
        "    s3_object_key = s3_path + parquet_file\n",
        "    bucket.upload_file(local_path, s3_object_key)\n"
      ],
      "metadata": {
        "id": "6U7deAYOKN8u"
      },
      "execution_count": 32,
      "outputs": []
    },
    {
      "cell_type": "code",
      "source": [],
      "metadata": {
        "id": "V1jafM5FIRPD"
      },
      "execution_count": 32,
      "outputs": []
    }
  ]
}
